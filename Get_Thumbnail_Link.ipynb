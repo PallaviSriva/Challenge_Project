{
 "cells": [
  {
   "cell_type": "code",
   "execution_count": 38,
   "id": "6b45a1be",
   "metadata": {},
   "outputs": [],
   "source": [
    "from flask import Flask , render_template , request , jsonify\n",
    "from bs4 import BeautifulSoup as bs \n",
    "from urllib.request import urlopen as urReq\n",
    "import requests\n",
    "import urllib\n",
    "import json\n",
    "import re\n",
    "import pandas as pd\n",
    "import string\n",
    "\n",
    "\n",
    "final_data=[]\n",
    "df=pd.DataFrame()\n",
    "f = open('(83) Krish Naik - YouTube.html', encoding=\"utf-8\")\n",
    "content = f.read()\n",
    "soup=bs(content, \"html.parser\")\n",
    "data  = soup.find_all(\"body\")\n",
    "#data1 = data[0].find_all(\"script\")[13].string \n",
    "data2 = data[0].find_all(\"div\", {\"class\":\"style-scope ytd-grid-video-renderer\", \"id\":\"details\"})\n",
    "\n",
    "i=0\n",
    "while 1:\n",
    "    title=data2[i].div.a.text.translate(str.maketrans('', '', string.punctuation))\n",
    "    views=data2[i].div.div.div.find_all(\"div\", {\"class\":\"style-scope ytd-grid-video-renderer\"})[1].span.text.replace(' views','')\n",
    "    url=data2[i].div.a['href']\n",
    "    \n",
    "    \n",
    "    \n",
    "    web = urllib.request.urlopen(url)\n",
    "    soup1 = bs(web.read(), 'html.parser')\n",
    "    data_url  = soup1.find_all(\"body\")\n",
    "    try:\n",
    "        #print(title,i,'try')\n",
    "        data_url1 = data_url[0].find_all(\"script\")[21].string \n",
    "        p1 = re.compile('var ytInitialData = (.*?);')\n",
    "        m1 = p1.match(data_url1)\n",
    "        stocks1 = json.loads(m1.groups()[0])\n",
    "        thumbnail=stocks1['contents']['twoColumnWatchNextResults']['results']['results']['contents'][1]['videoSecondaryInfoRenderer']['owner']\\\n",
    "                ['videoOwnerRenderer']['thumbnail']['thumbnails'][0]['url']\n",
    "        i+=1\n",
    "\n",
    "        final_data.append([thumbnail])\n",
    "        \n",
    "    except:\n",
    "        #print(title,i,'except')\n",
    "        i+=1\n",
    "    #i+=1\n",
    "    if len(final_data)==50:\n",
    "        break\n",
    "        \n",
    "df = pd.DataFrame(final_data, columns=['Thumbnail_Link'])\n",
    "df.to_csv(\"Krish_Naik_Thumbnails.csv\")"
   ]
  },
  {
   "cell_type": "code",
   "execution_count": 1,
   "id": "194e0537",
   "metadata": {},
   "outputs": [],
   "source": [
    "from flask import Flask , render_template , request , jsonify\n",
    "from bs4 import BeautifulSoup as bs \n",
    "from urllib.request import urlopen as urReq\n",
    "import requests\n",
    "import urllib\n",
    "import json\n",
    "import re\n",
    "import pandas as pd\n",
    "import string"
   ]
  },
  {
   "cell_type": "code",
   "execution_count": 2,
   "id": "7de2996c",
   "metadata": {},
   "outputs": [],
   "source": [
    "f = open('(83) Krish Naik - YouTube.html', encoding=\"utf-8\")\n",
    "content = f.read()\n",
    "soup=bs(content, \"html.parser\")\n",
    "data  = soup.find_all(\"body\")\n",
    "#data1 = data[0].find_all(\"script\")[13].string \n",
    "data2 = data[0].find_all(\"div\", {\"class\":\"style-scope ytd-grid-video-renderer\", \"id\":\"details\"})\n"
   ]
  },
  {
   "cell_type": "code",
   "execution_count": 3,
   "id": "4a961b2e",
   "metadata": {},
   "outputs": [],
   "source": [
    "title=data2[0].div.a.text.translate(str.maketrans('', '', string.punctuation))\n",
    "views=data2[0].div.div.div.find_all(\"div\", {\"class\":\"style-scope ytd-grid-video-renderer\"})[1].span.text.replace(' views','')\n",
    "url=data2[0].div.a['href']\n",
    "\n",
    "\n",
    "\n",
    "web = urllib.request.urlopen(url)\n",
    "soup1 = bs(web.read(), 'html.parser')\n",
    "data_url  = soup1.find_all(\"body\")"
   ]
  },
  {
   "cell_type": "code",
   "execution_count": 36,
   "id": "70e4d5e5",
   "metadata": {},
   "outputs": [],
   "source": [
    "data_url1 = data_url[0].find_all(\"script\")[21].string \n",
    "p1 = re.compile('var ytInitialData = (.*?);')\n",
    "m1 = p1.match(data_url1)\n",
    "stocks1 = json.loads(m1.groups()[0])\n",
    "likes=stocks1['contents']['twoColumnWatchNextResults']['results']['results']['contents'][1]['videoSecondaryInfoRenderer']['owner']\\\n",
    "['videoOwnerRenderer']['thumbnail']['thumbnails'][0]['url']"
   ]
  },
  {
   "cell_type": "code",
   "execution_count": 37,
   "id": "14d5d086",
   "metadata": {},
   "outputs": [
    {
     "data": {
      "text/plain": [
       "'https://yt3.ggpht.com/ytc/AMLnZu_Ow7V1PyNJXmvxUmamZqNR3IMT94rkYdJ0mz-8xQ=s48-c-k-c0x00ffffff-no-rj'"
      ]
     },
     "execution_count": 37,
     "metadata": {},
     "output_type": "execute_result"
    }
   ],
   "source": [
    "likes"
   ]
  },
  {
   "cell_type": "code",
   "execution_count": 57,
   "id": "a4185adb",
   "metadata": {},
   "outputs": [],
   "source": [
    "data3=data[0].find_all(\"div\", {\"class\":\"style-scope ytd-guide-section-renderer\", \"id\":\"items\"})[1]"
   ]
  },
  {
   "cell_type": "code",
   "execution_count": 59,
   "id": "794ef4fd",
   "metadata": {},
   "outputs": [
    {
     "data": {
      "text/plain": [
       "[]"
      ]
     },
     "execution_count": 59,
     "metadata": {},
     "output_type": "execute_result"
    }
   ],
   "source": [
    "data3.find_all(\"div\", {\"class\":\"style-scope ytd-guide-section-renderer\", \"id\":\"items\"})"
   ]
  },
  {
   "cell_type": "code",
   "execution_count": 63,
   "id": "5b6fc73e",
   "metadata": {},
   "outputs": [
    {
     "data": {
      "text/plain": [
       "[<yt-icon class=\"guide-icon style-scope ytd-guide-entry-renderer\" disable-upgrade='{\"thumbnails\":[{\"url\":\"https://yt3.ggpht.com/ytc/AMLnZu-XSLLgLQOl336BvRh09RHYLTSE9PJTCWmv7M96yQ=s88-c-k-c0x00ffffff-no-rj\"}]}' hidden=\"\">\n",
       " </yt-icon>,\n",
       " <yt-icon class=\"guide-icon style-scope ytd-guide-entry-renderer\" disable-upgrade='{\"thumbnails\":[{\"url\":\"https://yt3.ggpht.com/RQNsrBPt7-zWK3jq_l0_txq5aJtP140xCCJRj-QkjGiqjbtoPWKRYjmoePMndR8oqYwNQ7zx=s88-c-k-c0x00ffffff-no-rj\"}]}' hidden=\"\">\n",
       " </yt-icon>,\n",
       " <yt-icon class=\"guide-icon style-scope ytd-guide-entry-renderer\" disable-upgrade='{\"thumbnails\":[{\"url\":\"https://yt3.ggpht.com/ytc/AMLnZu-PoD_6ZY-R_ogW_WbMq4KUnACqWZrDBcS4RzHH4w=s88-c-k-c0x00ffffff-no-rj\"}]}' hidden=\"\">\n",
       " </yt-icon>,\n",
       " <yt-icon class=\"guide-icon style-scope ytd-guide-entry-renderer\" disable-upgrade='{\"thumbnails\":[{\"url\":\"https://yt3.ggpht.com/f6BWKFJa-1DcnqCIqiGCqNl2daN4rSo21UogJbKcmPC6h_VkvlF3TQ1rF-I6hN66hZ6Dfjb-bA=s88-c-k-c0x00ffffff-no-rj\"}]}' hidden=\"\">\n",
       " </yt-icon>,\n",
       " <yt-icon class=\"guide-icon style-scope ytd-guide-entry-renderer\" disable-upgrade='{\"thumbnails\":[{\"url\":\"https://yt3.ggpht.com/ytc/AMLnZu-g7QP6yDAEfPRlkNooGLZ10I5y-KVwut2YDexDoP8=s88-c-k-c0x00ffffff-no-rj\"}]}' hidden=\"\">\n",
       " </yt-icon>,\n",
       " <yt-icon class=\"guide-icon style-scope ytd-guide-entry-renderer\" disable-upgrade='{\"thumbnails\":[{\"url\":\"https://yt3.ggpht.com/ytc/AMLnZu9hwUHpo6B73tc_KYTQuMIyi14qiOQEeF-rzd1ptw=s88-c-k-c0x00ffffff-no-rj\"}]}' hidden=\"\">\n",
       " </yt-icon>,\n",
       " <yt-icon class=\"guide-icon style-scope ytd-guide-entry-renderer\" disable-upgrade='{\"thumbnails\":[{\"url\":\"https://yt3.ggpht.com/ytc/AMLnZu_Ow7V1PyNJXmvxUmamZqNR3IMT94rkYdJ0mz-8xQ=s88-c-k-c0x00ffffff-no-rj\"}]}' hidden=\"\">\n",
       " </yt-icon>,\n",
       " <yt-icon class=\"guide-icon style-scope ytd-guide-entry-renderer\"><svg class=\"style-scope yt-icon\" focusable=\"false\" preserveaspectratio=\"xMidYMid meet\" style=\"pointer-events: none; display: block; width: 100%; height: 100%;\" viewbox=\"0 0 24 24\"><g class=\"style-scope yt-icon\"><path class=\"style-scope yt-icon\" d=\"M12,15.7L5.6,9.4l0.7-0.7l5.6,5.6l5.6-5.6l0.7,0.7L12,15.7z\"></path></g></svg><!--css-build:shady--></yt-icon>,\n",
       " <yt-icon class=\"guide-icon style-scope ytd-guide-entry-renderer\"><svg class=\"style-scope yt-icon\" focusable=\"false\" preserveaspectratio=\"xMidYMid meet\" style=\"pointer-events: none; display: block; width: 100%; height: 100%;\" viewbox=\"0 0 24 24\"><g class=\"style-scope yt-icon\"><polygon class=\"style-scope yt-icon\" points=\"18.4,14.6 12,8.3 5.6,14.6 6.4,15.4 12,9.7 17.6,15.4 \"></polygon></g></svg><!--css-build:shady--></yt-icon>]"
      ]
     },
     "execution_count": 63,
     "metadata": {},
     "output_type": "execute_result"
    }
   ],
   "source": [
    "data3.find_all(\"yt-icon\",{\"class\":\"guide-icon style-scope ytd-guide-entry-renderer\"})"
   ]
  },
  {
   "cell_type": "code",
   "execution_count": null,
   "id": "10316f5c",
   "metadata": {},
   "outputs": [],
   "source": []
  }
 ],
 "metadata": {
  "kernelspec": {
   "display_name": "Python 3 (ipykernel)",
   "language": "python",
   "name": "python3"
  },
  "language_info": {
   "codemirror_mode": {
    "name": "ipython",
    "version": 3
   },
   "file_extension": ".py",
   "mimetype": "text/x-python",
   "name": "python",
   "nbconvert_exporter": "python",
   "pygments_lexer": "ipython3",
   "version": "3.9.0"
  }
 },
 "nbformat": 4,
 "nbformat_minor": 5
}
