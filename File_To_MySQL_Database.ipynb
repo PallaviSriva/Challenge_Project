{
 "cells": [
  {
   "cell_type": "code",
   "execution_count": 1,
   "id": "b15e335b",
   "metadata": {},
   "outputs": [],
   "source": [
    "import mysql.connector\n",
    "from mysql.connector import Error\n",
    "import pandas as pd\n",
    "import csvkit"
   ]
  },
  {
   "cell_type": "code",
   "execution_count": 2,
   "id": "a8fcea01",
   "metadata": {},
   "outputs": [
    {
     "name": "stdout",
     "output_type": "stream",
     "text": [
      "MySQL Database Connection Successful !!!\n"
     ]
    }
   ],
   "source": [
    "def create_server_connection(host_name, user_name):\n",
    "    connection = None\n",
    "    try:\n",
    "        ## setting up a connection with mysql server\n",
    "        connection = mysql.connector.connect(\n",
    "            host = host_name,\n",
    "            user = user_name)\n",
    "        print(\"MySQL Database Connection Successful !!!\")\n",
    "        \n",
    "    except Error as err:\n",
    "        print(f\"Error: '{err}'\")\n",
    "              \n",
    "    return connection\n",
    "\n",
    "#db=\"ineuron_task_fitbit\"\n",
    "connection = create_server_connection(\"localhost\",\"root\")"
   ]
  },
  {
   "cell_type": "code",
   "execution_count": 3,
   "id": "ef57de8e",
   "metadata": {},
   "outputs": [
    {
     "name": "stdout",
     "output_type": "stream",
     "text": [
      "Database Created Successfully\n"
     ]
    }
   ],
   "source": [
    "# Create Database\n",
    "\n",
    "def create_database(connection, query):\n",
    "    cursor = connection.cursor()\n",
    "    try:\n",
    "        cursor.execute(query)\n",
    "        print(\"Database Created Successfully\")\n",
    "    except Error as err:\n",
    "        print(f\"Error: '{err}'\")\n",
    "        \n",
    "create_database_query = \"Create database Youtube_Data\"\n",
    "create_database(connection, create_database_query)"
   ]
  },
  {
   "cell_type": "code",
   "execution_count": 4,
   "id": "c3fe4000",
   "metadata": {},
   "outputs": [
    {
     "name": "stderr",
     "output_type": "stream",
     "text": [
      "C:\\Users\\Hp\\AppData\\Local\\Programs\\Python\\Python39\\lib\\site-packages\\IPython\\utils\\_process_win32.py:124: ResourceWarning: unclosed file <_io.BufferedWriter name=4>\n",
      "C:\\Users\\Hp\\AppData\\Local\\Programs\\Python\\Python39\\lib\\site-packages\\IPython\\utils\\_process_win32.py:124: ResourceWarning: unclosed file <_io.BufferedReader name=5>\n",
      "C:\\Users\\Hp\\AppData\\Local\\Programs\\Python\\Python39\\lib\\site-packages\\IPython\\utils\\_process_win32.py:124: ResourceWarning: unclosed file <_io.BufferedReader name=6>\n"
     ]
    }
   ],
   "source": [
    "! csvsql --db mysql://root:@localhost:3306/Youtube_Data --insert Final_Output.csv"
   ]
  },
  {
   "cell_type": "code",
   "execution_count": null,
   "id": "3bc0aa49",
   "metadata": {},
   "outputs": [],
   "source": []
  }
 ],
 "metadata": {
  "kernelspec": {
   "display_name": "Python 3 (ipykernel)",
   "language": "python",
   "name": "python3"
  },
  "language_info": {
   "codemirror_mode": {
    "name": "ipython",
    "version": 3
   },
   "file_extension": ".py",
   "mimetype": "text/x-python",
   "name": "python",
   "nbconvert_exporter": "python",
   "pygments_lexer": "ipython3",
   "version": "3.9.0"
  }
 },
 "nbformat": 4,
 "nbformat_minor": 5
}
